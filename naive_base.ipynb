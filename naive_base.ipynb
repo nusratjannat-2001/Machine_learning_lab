{
 "cells": [
  {
   "cell_type": "markdown",
   "id": "f3add6d6",
   "metadata": {},
   "source": [
    "Naive Bayes"
   ]
  },
  {
   "cell_type": "code",
   "execution_count": 2,
   "id": "b9024f18",
   "metadata": {},
   "outputs": [
    {
     "name": "stdout",
     "output_type": "stream",
     "text": [
      "Predicted Class: Spam\n",
      "Class Probabilities [Not Spam, Spam]: [0.27878624 0.72121376]\n"
     ]
    }
   ],
   "source": [
    "import numpy as np\n",
    "from sklearn.naive_bayes import MultinomialNB\n",
    "\n",
    "# Vocabulary and counts\n",
    "vocab = [\"dear\", \"friend\", \"lunch\", \"money\"]\n",
    "spam_counts = [8, 5, 3, 1]\n",
    "notspam_counts = [2, 1, 0, 4]\n",
    "\n",
    "# Training data\n",
    "X_train = np.array([spam_counts, notspam_counts])\n",
    "y_train = np.array([1, 0])  # 1 = spam, 0 = not spam\n",
    "\n",
    "# Test email: \"dear friend lunch\"\n",
    "test_email = np.array([[1, 1, 1, 0]])\n",
    "\n",
    "# Set class priors manually:\n",
    "class_prior = [8/12, 4/12]  # [Not Spam, Spam]\n",
    "\n",
    "# Initialize model with class priors\n",
    "model = MultinomialNB(class_prior=class_prior)\n",
    "model.fit(X_train, y_train)\n",
    "\n",
    "# Predict\n",
    "pred = model.predict(test_email)\n",
    "prob = model.predict_proba(test_email)\n",
    "\n",
    "classes = [\"Not Spam\", \"Spam\"]\n",
    "print(f\"Predicted Class: {classes[pred[0]]}\")\n",
    "print(f\"Class Probabilities [Not Spam, Spam]: {prob[0]}\")\n"
   ]
  }
 ],
 "metadata": {
  "kernelspec": {
   "display_name": "Python 3",
   "language": "python",
   "name": "python3"
  },
  "language_info": {
   "codemirror_mode": {
    "name": "ipython",
    "version": 3
   },
   "file_extension": ".py",
   "mimetype": "text/x-python",
   "name": "python",
   "nbconvert_exporter": "python",
   "pygments_lexer": "ipython3",
   "version": "3.12.6"
  }
 },
 "nbformat": 4,
 "nbformat_minor": 5
}
